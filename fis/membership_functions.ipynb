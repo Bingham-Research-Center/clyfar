{
 "cells": [
  {
   "metadata": {},
   "cell_type": "markdown",
   "source": [
    "## Membership Functions for Clyfar\n",
    "We explain and explore the membership functions that we assign to the input and output variables. We were using Gaussian curves and sigmoids in the prototype (v0.1) but will move to trapezoidal (specified by a quintuple with the possibility level) and a linear simplification for sigmoid. \n"
   ],
   "id": "4af2bba9d822eca8"
  },
  {
   "cell_type": "code",
   "execution_count": null,
   "id": "initial_id",
   "metadata": {
    "collapsed": true
   },
   "outputs": [],
   "source": [
    "import os \n",
    "\n",
    "import numpy as np\n",
    "import matplotlib.pyplot as plt\n",
    "import skfuzzy as fuzz\n",
    "from skfuzzy import control as ctrl\n",
    "\n",
    "# Use latex for all figure text\n",
    "plt.rc('text', usetex=True)\n",
    "# Set font for latex\n",
    "plt.rc('font', family='serif', size=12)\n",
    "# Make maths rendering from latex use a modern latex inbuilt font\n",
    "plt.rc('mathtext', fontset='cm')\n",
    "\n",
    "plt.rcParams['figure.dpi'] = 300"
   ]
  },
  {
   "metadata": {},
   "cell_type": "code",
   "outputs": [],
   "execution_count": null,
   "source": [
    "# For time series of PLR, we can consider \"no inversion\", \"inversion\", \"ambiguous\"\n",
    "# Hence we only draw the no-inversion and inversion trapezoids\n",
    "# We leave the middle (ambiguous) with low membership values of any set"
   ],
   "id": "3024bb9c65d71843"
  }
 ],
 "metadata": {
  "kernelspec": {
   "display_name": "Python 3",
   "language": "python",
   "name": "python3"
  },
  "language_info": {
   "codemirror_mode": {
    "name": "ipython",
    "version": 2
   },
   "file_extension": ".py",
   "mimetype": "text/x-python",
   "name": "python",
   "nbconvert_exporter": "python",
   "pygments_lexer": "ipython2",
   "version": "2.7.6"
  }
 },
 "nbformat": 4,
 "nbformat_minor": 5
}
