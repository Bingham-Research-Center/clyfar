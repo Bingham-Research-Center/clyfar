{
 "cells": [
  {
   "metadata": {},
   "cell_type": "markdown",
   "source": [
    "### Version 1: Clyfar\n",
    "The main changes are:\n",
    "* Add memory aspect, e.g., yesterday's ozone; days with cold pool\n",
    "* Pseudo-lapse-rate \n",
    "* Arctinic (see Neimann paper)\n",
    "* Soil temperature\n",
    "* Rename or redo solar insolation?\n",
    "* Hand-picked five stations per variable to create representative value?\n",
    "  - Especially for COOP snow stations\n",
    "* There needs to be a proxy in the NWP forecast data!\n",
    "\n"
   ],
   "id": "3d395324d72dcbf1"
  },
  {
   "cell_type": "code",
   "execution_count": null,
   "id": "initial_id",
   "metadata": {
    "collapsed": true
   },
   "outputs": [],
   "source": [
    ""
   ]
  }
 ],
 "metadata": {
  "kernelspec": {
   "display_name": "Python 3",
   "language": "python",
   "name": "python3"
  },
  "language_info": {
   "codemirror_mode": {
    "name": "ipython",
    "version": 2
   },
   "file_extension": ".py",
   "mimetype": "text/x-python",
   "name": "python",
   "nbconvert_exporter": "python",
   "pygments_lexer": "ipython2",
   "version": "2.7.6"
  }
 },
 "nbformat": 4,
 "nbformat_minor": 5
}
