{
 "cells": [
  {
   "metadata": {},
   "cell_type": "markdown",
   "source": [
    "### Creating representative observations for Clyfar and the Uinta Basin\n",
    "We will load 2022/2023 and reduce observation set to daily representative values.\n",
    "\n",
    "We seek single values for:\n",
    "* Wind speed (mid-upper percentile to ignore thunderstorm gusts etc)\n",
    "* MSLP (calibrate to find something not buggered by altitude calculations)\n",
    "* Insolation (I was using \"near zenith mean\" for 10-14: around solar noon)\n",
    "* Snow depth (data is sparse, so we need to make most of COOP sites once a day)\n",
    "* NEW: pseudo-lapse-rate, using temperature and altitude values up the slope to estimate a lapse rate and perhaps detect a shallow cold pool\n",
    "* NEW: soil temperature, which may be correlated with snow-melt and hence more difficult inversion formation\n",
    "\n",
    "We can then start to relate things day-to-day. Note our days will be local, meaning offset from UTC of -6 or -7 depending on daylight savings."
   ],
   "id": "1c1bbf55b34b9b74"
  },
  {
   "metadata": {
    "collapsed": true
   },
   "cell_type": "code",
   "source": [
    "import os\n",
    "\n",
    "import matplotlib.pyplot as plt \n",
    "import numpy as np\n",
    "import pandas as pd\n",
    "\n",
    "from obs.obsdata import ObsData"
   ],
   "id": "initial_id",
   "outputs": [],
   "execution_count": null
  },
  {
   "metadata": {},
   "cell_type": "code",
   "source": [
    "# \"sea_level_pressure\" from KVEL will be the source. We take the median of daily values.\n",
    "\n",
    "def do_repval_mslp(df):\n",
    "    \"\"\"Create representative values of mean sea level pressure from KVEL data.\n",
    "    \n",
    "    Notes:\n",
    "        This is the variable \"sea_level_pressure\" from the station KVEL, \n",
    "        ignoring \"pressure\" and \"altimeter\". Further, we note the index\n",
    "        is in UTC and we need to shift to local time (US Mountain) considering\n",
    "        the daylight savings change.\n",
    "        \n",
    "    Args:\n",
    "        df (pd.DataFrame): The data frame with the KVEL data.\n",
    "        \n",
    "    Returns:\n",
    "        repr_df (pd.DataFrame): The representative values of MSLP for the Basin\n",
    "    \"\"\"\n",
    "    # We need to convert the index to local time\n",
    "    df.index = df.index.tz_convert(\"US/Mountain\")\n",
    "    \n",
    "    # We take the median of daily values for KVEL\n",
    "    repr_df = df.resample(\"D\").median()\n",
    "       \n",
    "    # We then take the median of those values\n",
    "    # repr_df = repr_df.median(axis=1)\n",
    "    \n",
    "    return repr_df\n",
    "    "
   ],
   "id": "b8edcdeb240456be",
   "outputs": [],
   "execution_count": null
  },
  {
   "metadata": {},
   "cell_type": "code",
   "source": [
    "def do_repval_ozone(df):\n",
    "    \"\"\"Create representative values of ozone concentration from multiple reliable stations.\n",
    "    \n",
    "    Args:\n",
    "        df (pd.DataFrame): The data frame with the ozone data where columns are station IDs\n",
    "            (stid), and ozone_concentration, and the index is a timestamp.\n",
    "    \"\"\"\n",
    "    # Remove extreme values\n",
    "    df.loc[df[\"ozone_concentration\"] > 140, \"ozone_concentration\"] = np.nan\n",
    "    df.loc[df[\"ozone_concentration\"] < 5, \"ozone_concentration\"] = np.nan\n",
    "\n",
    "    # Convert to local time zone from UTC (US/Mountain)\n",
    "    df.index = df.index.tz_convert(\"US/Mountain\")\n",
    "    \n",
    "    # First get the 99th percentile for each station, resampled daily (midnight to midnight)\n",
    "    daily_99th = df.groupby('stid').resample('D').quantile(0.99)\n",
    "\n",
    "    # For each day, take the 99th percentile of the daily 99th percentiles across stations for a single value per day\n",
    "    result = daily_99th.groupby(level=1).quantile(0.99)\n",
    "\n",
    "    return result\n"
   ],
   "id": "fcbc4591b9a1513f",
   "outputs": [],
   "execution_count": null
  },
  {
   "metadata": {},
   "cell_type": "code",
   "source": [
    "def do_repval_wind(df):\n",
    "    \"\"\"Create representative values of wind speed from the Uinta Basin stations.\n",
    "    \n",
    "    Notes:\n",
    "        We use the stations DURU1, A1622, SPMU1, QV4, WAXU1, E8302, KVEL, QRS, MYT5.\n",
    "\n",
    "    Args:\n",
    "        df (pd.DataFrame): The data frame with the wind speed data where columns are the stations\n",
    "        \n",
    "    \"\"\"\n",
    "    # Convert to local time zone from UTC (US/Mountain)\n",
    "    df.index = df.index.tz_convert(\"US/Mountain\")\n",
    "    \n",
    "    # First get 75th percentile of each station midnight to midnight local time\n",
    "    df = df.groupby('stid').resample(\"D\").quantile(0.75)\n",
    "    \n",
    "    # Then the 95th percentile of those values\n",
    "    return df.groupby(level=1).quantile(0.75)"
   ],
   "id": "e3260fb842498cf",
   "outputs": [],
   "execution_count": null
  },
  {
   "metadata": {},
   "cell_type": "code",
   "source": [
    "def do_repval_snow(df):\n",
    "    \"\"\"Create representative values of snow from the Uinta Basin stations.\n",
    "    \n",
    "    Notes:\n",
    "        We use the stations \"COOP*\" in the Basin.\n",
    "\n",
    "    Args:\n",
    "        df (pd.DataFrame): The data frame with the snow data for all COOP stations \n",
    "        \n",
    "    \"\"\"\n",
    "    # Convert to local time zone from UTC (US/Mountain)\n",
    "    df.index = df.index.tz_convert(\"US/Mountain\")\n",
    "    \n",
    "    # Compute 95th percentile of snow depth for each station's reports midnight to midnight local time\n",
    "    df = df.groupby(\"stid\").resample(\"D\").quantile(0.95)\n",
    "    \n",
    "    # Then the 95th percentile of those values\n",
    "    return df.groupby(level=1).quantile(0.95)"
   ],
   "id": "5db05cc8837f624a",
   "outputs": [],
   "execution_count": null
  },
  {
   "metadata": {},
   "cell_type": "code",
   "source": [
    "def compute_nearzenithmean(df, solar_stids):\n",
    "    \n",
    "    # Convert to local time zone from UTC (US/Mountain)\n",
    "    df.index = df.index.tz_convert(\"US/Mountain\")\n",
    "    \n",
    "    # Create a dictionary to store this \"near-zenith mean\" (nzm) for each station\n",
    "    daily_solar_nzm = dict()\n",
    "    \n",
    "    for stid in solar_stids:\n",
    "        # Get the time series for this station, only for solar radiation\n",
    "        sub_df = df.loc[df[\"stid\"] == stid][\"solar_radiation\"]\n",
    "        \n",
    "        # For each station, compute mean from obs within each local day for each column (variable)\n",
    "        daily_solar_nzm[stid] = sub_df.between_time(\"10:00\", \"14:00\").resample(\"D\").mean()\n",
    "        \n",
    "    # Create dataframe\n",
    "    df_daily_solar_nzm = pd.concat(daily_solar_nzm, axis=0, ignore_index=False)\n",
    "    df_daily_solar_nzm = do_nzm_filtering(df_daily_solar_nzm, solar_stids)\n",
    "    return df_daily_solar_nzm\n",
    "\n",
    "def do_nzm_filtering(df, solar_stids):\n",
    "    \"\"\"Filter the near-zenith mean insolation data by adding a rolling mean.\n",
    "    \n",
    "    Note:\n",
    "        The first six days will be NaN due to the window. Start a week early.\n",
    "        TODO: add a week for the operational model before starting Clyfar\n",
    "        \n",
    "    Args:\n",
    "        df (pd.DataFrame): The data frame with the near-zenith mean insolation data\n",
    "        solar_stids (list): The list of station IDs for solar radiation\n",
    "    \"\"\"\n",
    "    all_filtered = {}\n",
    "    for stid in solar_stids:\n",
    "        sub_df = df.loc[stid]\n",
    "        filtered_sub_df = sub_df.rolling(window=7).mean()\n",
    "        all_filtered[stid] = filtered_sub_df\n",
    "    filtered_df = pd.concat(all_filtered, axis=0, ignore_index=False)\n",
    "    return filtered_df    \n",
    "\n",
    "def do_repval_solar(df):\n",
    "    \"\"\"Create representative values of insolation using \"near-zenith mean\" from four stations.\n",
    "    \n",
    "    Args:\n",
    "        df (pd.DataFrame): The data frame with the insolation data where columns are the stations\n",
    "        \n",
    "    \"\"\"\n",
    "    # Convert to local time zone from UTC (US/Mountain)\n",
    "    df.index = df.index.tz_convert(\"US/Mountain\")\n",
    "    \n",
    "    solar_stids = [\"DURU1\", \"A1622\", \"SPMU1\", \"WAXU1\"]\n",
    "    \n",
    "    # Compute near-zenith mean for each station midnight to midnight local time\n",
    "    df_daily_solar_nzm = compute_nearzenithmean(df, solar_stids)\n",
    "    \n",
    "    # 95th percentile \n",
    "    return df_daily_solar_nzm.groupby(level=1).quantile(0.95)"
   ],
   "id": "df042e194169a127",
   "outputs": [],
   "execution_count": null
  },
  {
   "metadata": {},
   "cell_type": "code",
   "source": [
    "df, meta_df = ObsData.load_dfs(\"../data\", \"UB_obs_2023.parquet\")\n",
    "df.head(10)"
   ],
   "id": "b5c8a8cc12dff10f",
   "outputs": [],
   "execution_count": null
  },
  {
   "metadata": {},
   "cell_type": "code",
   "source": "df.columns",
   "id": "6e4834e377179c6f",
   "outputs": [],
   "execution_count": null
  },
  {
   "metadata": {},
   "cell_type": "code",
   "source": [
    "# What to use for MSLP - \"altimeter\", \"pressure\", \"sea_level_pressure\"? Let's look at the column details\n",
    "# only for stid = \"KVEL\".\n",
    "\n",
    "df_kvel = df[df[\"stid\"] == \"KVEL\"][[\"altimeter\", \"pressure\", \"sea_level_pressure\"]]\n",
    "df_kvel\n",
    "\n"
   ],
   "id": "bb52a841d4017a55",
   "outputs": [],
   "execution_count": null
  },
  {
   "metadata": {},
   "cell_type": "code",
   "source": [
    "repr_mslp = do_repval_mslp(df[[\"sea_level_pressure\",]])\n",
    "repr_mslp"
   ],
   "id": "990b1f5b1e03099d",
   "outputs": [],
   "execution_count": null
  },
  {
   "metadata": {},
   "cell_type": "code",
   "source": "repr_mslp.plot()",
   "id": "a04e0af7c538df0d",
   "outputs": [],
   "execution_count": null
  },
  {
   "metadata": {},
   "cell_type": "code",
   "source": [
    "# repr_ozone argument should be a subset for the three stations [\"UBHSP\", \"QV4\", \"QRS\"]\n",
    "# and the ozone_concentration column\n",
    "ozone_subdf = df[df[\"stid\"].isin([\"UBHSP\", \"QV4\", \"QRS\"])][[\"ozone_concentration\",\"stid\"]]\n",
    "repr_ozone = do_repval_ozone(ozone_subdf)\n",
    "repr_ozone"
   ],
   "id": "c47f42a8f1ce16fe",
   "outputs": [],
   "execution_count": null
  },
  {
   "metadata": {},
   "cell_type": "code",
   "source": [
    "# Visualise repr_ozone \n",
    "repr_ozone.plot()"
   ],
   "id": "746233993775a74e",
   "outputs": [],
   "execution_count": null
  },
  {
   "metadata": {},
   "cell_type": "code",
   "source": [
    "# How to generate wind speed? \n",
    "wind_stids = ['DURU1', 'A1622', 'SPMU1', 'QV4', 'WAXU1', 'E8302', 'KVEL', 'QRS', 'MYT5']\n",
    "repr_wind = do_repval_wind(df[df[\"stid\"].isin(wind_stids)][[\"wind_speed\",\"stid\"]])\n",
    "repr_wind.plot()\n",
    "# repr_wind"
   ],
   "id": "f806f4dc96526d0e",
   "outputs": [],
   "execution_count": null
  },
  {
   "metadata": {},
   "cell_type": "code",
   "source": [
    "snow_stids = ['COOPJENU1', 'COOPFTDU1', 'COOPALMU1', 'COOPDINU1', 'COOPROSU1', \n",
    "                'COOPVELU1', 'COOPDSNU1', 'COOPOURU1', 'COOPNELU1']\n",
    "repr_snow = do_repval_snow(df[df[\"stid\"].isin(snow_stids)][[\"snow_depth\",\"stid\"]])\n",
    "repr_snow.plot()\n",
    "\n"
   ],
   "id": "d612b24e0e63f4da",
   "outputs": [],
   "execution_count": null
  },
  {
   "metadata": {},
   "cell_type": "code",
   "source": [
    "solar_stids = [\"DURU1\", \"A1622\", \"SPMU1\", \"WAXU1\"]\n",
    "# solar_subset = df[df[\"stid\"].isin(solar_stids)][[\"solar_radiation\",\"stid\"]]\n",
    "# solar_subset\n",
    "\n",
    "repr_solar = do_repval_solar(df[df[\"stid\"].isin(solar_stids)][[\"solar_radiation\",\"stid\"]])\n",
    "repr_solar"
   ],
   "id": "71a09f80edc405e1",
   "outputs": [],
   "execution_count": null
  },
  {
   "metadata": {},
   "cell_type": "code",
   "source": "repr_solar.plot()\n",
   "id": "ab10b2d8cf669145",
   "outputs": [],
   "execution_count": null
  },
  {
   "metadata": {},
   "cell_type": "code",
   "source": "",
   "id": "265501988b7313ce",
   "outputs": [],
   "execution_count": null
  }
 ],
 "metadata": {
  "kernelspec": {
   "display_name": "Python 3",
   "language": "python",
   "name": "python3"
  },
  "language_info": {
   "codemirror_mode": {
    "name": "ipython",
    "version": 2
   },
   "file_extension": ".py",
   "mimetype": "text/x-python",
   "name": "python",
   "nbconvert_exporter": "python",
   "pygments_lexer": "ipython2",
   "version": "2.7.6"
  }
 },
 "nbformat": 4,
 "nbformat_minor": 5
}
