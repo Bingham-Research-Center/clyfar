{
 "cells": [
  {
   "metadata": {},
   "cell_type": "markdown",
   "source": "### Creating representative observations for Clyfar and the Uinta Basin",
   "id": "1c1bbf55b34b9b74"
  },
  {
   "cell_type": "code",
   "execution_count": null,
   "id": "initial_id",
   "metadata": {
    "collapsed": true
   },
   "outputs": [],
   "source": [
    "import os\n",
    "\n",
    "from obs.obsdata import ObsData"
   ]
  },
  {
   "metadata": {
    "ExecuteTime": {
     "end_time": "2024-10-11T17:51:53.874964Z",
     "start_time": "2024-10-11T17:51:53.486241Z"
    }
   },
   "cell_type": "code",
   "source": [
    "df, meta_df = ObsData.load_dfs(\"../data\", \"UB_obs_2020.parquet\")\n",
    "df.head(10)"
   ],
   "id": "b5c8a8cc12dff10f",
   "outputs": [
    {
     "ename": "NameError",
     "evalue": "name 'ObsData' is not defined",
     "output_type": "error",
     "traceback": [
      "\u001B[0;31m---------------------------------------------------------------------------\u001B[0m",
      "\u001B[0;31mNameError\u001B[0m                                 Traceback (most recent call last)",
      "Cell \u001B[0;32mIn[1], line 1\u001B[0m\n\u001B[0;32m----> 1\u001B[0m df, meta_df \u001B[38;5;241m=\u001B[39m \u001B[43mObsData\u001B[49m\u001B[38;5;241m.\u001B[39mload_dfs(\u001B[38;5;124m\"\u001B[39m\u001B[38;5;124m../data\u001B[39m\u001B[38;5;124m\"\u001B[39m, \u001B[38;5;124m\"\u001B[39m\u001B[38;5;124mUB_obs_2020.parquet\u001B[39m\u001B[38;5;124m\"\u001B[39m)\n\u001B[1;32m      2\u001B[0m df\u001B[38;5;241m.\u001B[39mhead(\u001B[38;5;241m10\u001B[39m)\n",
      "\u001B[0;31mNameError\u001B[0m: name 'ObsData' is not defined"
     ]
    }
   ],
   "execution_count": 1
  }
 ],
 "metadata": {
  "kernelspec": {
   "display_name": "Python 3",
   "language": "python",
   "name": "python3"
  },
  "language_info": {
   "codemirror_mode": {
    "name": "ipython",
    "version": 2
   },
   "file_extension": ".py",
   "mimetype": "text/x-python",
   "name": "python",
   "nbconvert_exporter": "python",
   "pygments_lexer": "ipython2",
   "version": "2.7.6"
  }
 },
 "nbformat": 4,
 "nbformat_minor": 5
}
