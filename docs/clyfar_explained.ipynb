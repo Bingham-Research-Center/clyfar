{
 "cells": [
  {
   "metadata": {},
   "cell_type": "markdown",
   "source": [
    "# Understanding the Clyfar Fuzzy Logic Inference System (FIS)\n",
    "\n",
    "*Prepared by Michael Davies, 13/09/2024*\n",
    "\n",
    "## Introduction\n",
    "\n",
    "This document provides a walkthrough of the **Clyfar Fuzzy Logic Inference System (FIS)** developed by *John R. Lawson*. The goal is to help you understand the code, its functionality, and the scientific concepts behind it.\n",
    "\n",
    "**Clyfar** (*Welsh for clever*) is a **Numerical Weather Prediction (NWP)** and **Artificial Intelligence (AI)** hybrid system. It utilizes a set of rules to process weather forecast data and predict maximum ozone levels over the next 14 days. Version 1 of Clyfar is based on a **fuzzy-logic inference system (FIS)**, offering an explainable AI model that can be evolved and optimized.\n",
    "\n",
    "In this prototype, we focus on predicting winter ozone concentrations in the **Uinta Basin, Utah**. Instead of using probabilities, we use the concepts of **possibility and necessity** to communicate uncertainty, which is particularly useful when data is sparse.\n"
   ],
   "id": "ba49185be6db77c1"
  },
  {
   "metadata": {},
   "cell_type": "markdown",
   "source": [
    "## 1. Importing Libraries\n",
    "\n",
    "---\n",
    "\n",
    "First, we need to import all the necessary Python libraries required for the **Clyfar** system.\n"
   ],
   "id": "d08df6e01dae739e"
  },
  {
   "metadata": {
    "ExecuteTime": {
     "end_time": "2024-09-16T22:49:32.516094Z",
     "start_time": "2024-09-16T22:49:31.428369Z"
    }
   },
   "cell_type": "code",
   "source": [
    "import calendar\n",
    "import numpy as np\n",
    "import pandas as pd\n",
    "import skfuzzy as fuzz\n",
    "from skfuzzy import control as ctrl\n",
    "import matplotlib.pyplot as plt\n",
    "import matplotlib.dates as mdates\n",
    "import matplotlib.patheffects as pe\n",
    "import cartopy.geodesic as cgeo\n",
    "import cartopy.crs as ccrs\n",
    "import cartopy.io.img_tiles as cimgt\n",
    "from PIL import Image\n",
    "import shapely\n",
    "import cartopy.feature as cfeature\n",
    "from synoptic.services import stations_latest, stations_metadata\n",
    "\n",
    "# Set up matplotlib to use LaTeX fonts\n",
    "plt.rc('text', usetex=True)\n",
    "plt.rc('font', family='serif', size=12)\n",
    "plt.rc('mathtext', fontset='cm')\n",
    "plt.rcParams['figure.dpi'] = 300\n",
    "\n",
    "# Define the year for data analysis\n",
    "y = 2022\n"
   ],
   "id": "7725a64113651610",
   "outputs": [
    {
     "name": "stderr",
     "output_type": "stream",
     "text": [
      "/opt/miniconda3/envs/clyfar/lib/python3.11/site-packages/pyproj/__init__.py:89: UserWarning: pyproj unable to set database path.\n",
      "  _pyproj_global_context_initialize()\n"
     ]
    },
    {
     "ename": "ModuleNotFoundError",
     "evalue": "No module named 'synoptic'",
     "output_type": "error",
     "traceback": [
      "\u001B[0;31m---------------------------------------------------------------------------\u001B[0m",
      "\u001B[0;31mModuleNotFoundError\u001B[0m                       Traceback (most recent call last)",
      "Cell \u001B[0;32mIn[1], line 15\u001B[0m\n\u001B[1;32m     13\u001B[0m \u001B[38;5;28;01mimport\u001B[39;00m \u001B[38;5;21;01mshapely\u001B[39;00m\n\u001B[1;32m     14\u001B[0m \u001B[38;5;28;01mimport\u001B[39;00m \u001B[38;5;21;01mcartopy\u001B[39;00m\u001B[38;5;21;01m.\u001B[39;00m\u001B[38;5;21;01mfeature\u001B[39;00m \u001B[38;5;28;01mas\u001B[39;00m \u001B[38;5;21;01mcfeature\u001B[39;00m\n\u001B[0;32m---> 15\u001B[0m \u001B[38;5;28;01mfrom\u001B[39;00m \u001B[38;5;21;01msynoptic\u001B[39;00m\u001B[38;5;21;01m.\u001B[39;00m\u001B[38;5;21;01mservices\u001B[39;00m \u001B[38;5;28;01mimport\u001B[39;00m stations_latest, stations_metadata\n\u001B[1;32m     17\u001B[0m \u001B[38;5;66;03m# Set up matplotlib to use LaTeX fonts\u001B[39;00m\n\u001B[1;32m     18\u001B[0m plt\u001B[38;5;241m.\u001B[39mrc(\u001B[38;5;124m'\u001B[39m\u001B[38;5;124mtext\u001B[39m\u001B[38;5;124m'\u001B[39m, usetex\u001B[38;5;241m=\u001B[39m\u001B[38;5;28;01mTrue\u001B[39;00m)\n",
      "\u001B[0;31mModuleNotFoundError\u001B[0m: No module named 'synoptic'"
     ]
    }
   ],
   "execution_count": 1
  },
  {
   "metadata": {},
   "cell_type": "markdown",
   "source": [
    "## 2. Defining Helper Functions\n",
    "\n",
    "---\n",
    "\n",
    "Several helper functions are defined to support the main functionality of the **Clyfar** system.\n",
    "\n",
    "### 2.1 `range_from_gaussian_params`\n",
    "\n",
    "This function calculates approximate ranges for each ozone category based on the centers and sigma values of Gaussian curves.\n"
   ],
   "id": "9f11b52dcccfc78c"
  },
  {
   "metadata": {
    "ExecuteTime": {
     "end_time": "2024-09-16T22:49:32.518140Z",
     "start_time": "2024-09-16T22:49:32.518073Z"
    }
   },
   "cell_type": "code",
   "source": [
    "def range_from_gaussian_params(centres_dict, sigma_dict) -> dict:\n",
    "    \"\"\"\n",
    "    From dicts of Gaussian-curve centres and sigma values, return approximate ranges.\n",
    "\n",
    "    Args:\n",
    "        centres_dict: dict with category names as keys; centres of the Gaussian curves as values\n",
    "        sigma_dict: dict with category names as keys; sigma values of the Gaussian curves as values\n",
    "\n",
    "    Returns:\n",
    "        range_dict: dict with category names as keys; ranges as [lower, upper]\n",
    "    \"\"\"\n",
    "    range_dict = {}\n",
    "    for cat, centre in centres_dict.items():\n",
    "        sigma = sigma_dict[cat]\n",
    "        # Calculate the lower and upper bounds\n",
    "        lower_raw = centre - 2.0 * sigma\n",
    "        upper_raw = centre + 2.0 * sigma\n",
    "        # Round to the nearest multiple of 5\n",
    "        lower = 5 * round(lower_raw / 5)\n",
    "        upper = 5 * round(upper_raw / 5)\n",
    "        range_dict[cat] = [lower, upper]\n",
    "    return range_dict"
   ],
   "id": "f9db1fdd1cdd43ec",
   "outputs": [],
   "execution_count": null
  },
  {
   "metadata": {},
   "cell_type": "markdown",
   "source": [
    "### 2.2 `generate_str_from_range`\n",
    "\n",
    "Generates a string representation of the ranges for each category, suitable for **LaTeX** rendering.\n"
   ],
   "id": "2fd03e3985b1c32"
  },
  {
   "metadata": {},
   "cell_type": "code",
   "source": [
    "def generate_str_from_range(range_dict):\n",
    "    \"\"\"\n",
    "    Generate a LaTeX-friendly string from a dictionary of ranges.\n",
    "\n",
    "    Args:\n",
    "        range_dict: dict with category names as keys; ranges as [lower, upper]\n",
    "\n",
    "    Returns:\n",
    "        range_str_dict: dict with category names as keys; string representations of ranges\n",
    "    \"\"\"\n",
    "    range_str_dict = {}\n",
    "    for cat, (lower, upper) in range_dict.items():\n",
    "        approx_str = r'$\\approx$'\n",
    "        range_str_dict[cat] = f\"{approx_str}{lower:.0f}--{upper:.0f} ppb\"\n",
    "    return range_str_dict"
   ],
   "id": "8a3cf7b3e0455a83",
   "outputs": [],
   "execution_count": null
  },
  {
   "metadata": {},
   "cell_type": "markdown",
   "source": [
    "### 2.3 `maybe_amend_year`\n",
    "\n",
    "Adjusts the year if the month is December, assuming the data spans over New Year's."
   ],
   "id": "e00315298b939365"
  },
  {
   "metadata": {},
   "cell_type": "code",
   "source": [
    "def maybe_amend_year(month, year):\n",
    "    \"\"\"\n",
    "    Adjust the year if the month is December, assuming the data spans over New Year's.\n",
    "\n",
    "    Args:\n",
    "        month: int representing the month\n",
    "        year: int representing the year\n",
    "\n",
    "    Returns:\n",
    "        year: int representing the adjusted year\n",
    "    \"\"\"\n",
    "    if month == 12:\n",
    "        year += 1\n",
    "    return year"
   ],
   "id": "44ece414948a560b",
   "outputs": [],
   "execution_count": null
  },
  {
   "metadata": {},
   "cell_type": "markdown",
   "source": [
    "### 2.4 `compute_necessity_distr`\n",
    "\n",
    "Computes the necessity distribution from a possibility distribution.\n"
   ],
   "id": "a26c56137a10013c"
  },
  {
   "metadata": {},
   "cell_type": "code",
   "source": [
    "def select_function(func):\n",
    "    if func == \"max\":\n",
    "        f = np.max\n",
    "    elif func == \"mean\":\n",
    "        f = np.mean\n",
    "    else:\n",
    "        raise ValueError(\"func must be 'max' or 'mean'\")\n",
    "    return f\n",
    "\n",
    "def compute_necessity_distr(possibility_array, func=\"max\"):\n",
    "    \"\"\"\n",
    "    Compute necessity distribution from a possibility distribution.\n",
    "\n",
    "    Args:\n",
    "        possibility_array: Numpy array of possibility values\n",
    "        func: Function to apply ('max' or 'mean')\n",
    "\n",
    "    Returns:\n",
    "        necessity_array: Numpy array of necessity values\n",
    "    \"\"\"\n",
    "    f = select_function(func)\n",
    "    necessity_array = []\n",
    "    n_categories = len(possibility_array)\n",
    "\n",
    "    for i in range(n_categories):\n",
    "        other_possibilities = [possibility_array[j] for j in range(n_categories) if j != i]\n",
    "        necessity_array.append(1 - f(other_possibilities))\n",
    "    return np.array(necessity_array)\n"
   ],
   "id": "c0dfa6bd3d2014bc",
   "outputs": [],
   "execution_count": null
  },
  {
   "metadata": {},
   "cell_type": "markdown",
   "source": [
    "### 2.5 `do_normalization`\n",
    "\n",
    "Normalizes the possibility array to ensure the supremum is 1.\n"
   ],
   "id": "8eab164869680c04"
  },
  {
   "metadata": {},
   "cell_type": "code",
   "source": [
    "def do_normalization(possibility_array):\n",
    "    \"\"\"\n",
    "    Rescale the possibility array to ensure sup(possibility) = 1.\n",
    "\n",
    "    Args:\n",
    "        possibility_array: Numpy array of possibility values\n",
    "\n",
    "    Returns:\n",
    "        possibility_array_norm: Normalized array\n",
    "    \"\"\"\n",
    "    possibility_array_norm = possibility_array / np.max(possibility_array)\n",
    "    return possibility_array_norm\n"
   ],
   "id": "ff4220031d1b00b3",
   "outputs": [],
   "execution_count": null
  },
  {
   "metadata": {},
   "cell_type": "markdown",
   "source": [
    "### 2.6 `create_possibility_array`\n",
    "\n",
    "Creates an array of possibility values for a given ozone simulation.\n"
   ],
   "id": "f18a9d4ebf8a54f6"
  },
  {
   "metadata": {},
   "cell_type": "code",
   "source": [
    "def create_possibility_array(ozone_simulation, ozone, normalize=False):\n",
    "    \"\"\"\n",
    "    Create an array of possibility values.\n",
    "\n",
    "    Args:\n",
    "        ozone_simulation: The ozone simulation object\n",
    "        ozone: The ozone variable\n",
    "        normalize: Boolean indicating whether to normalize the array\n",
    "\n",
    "    Returns:\n",
    "        possibility_array: Numpy array of possibility values\n",
    "    \"\"\"\n",
    "    possibility_array = np.array([k.membership_value[ozone_simulation] for k in ozone.terms.values()])\n",
    "    if normalize:\n",
    "        possibility_array = do_normalization(possibility_array)\n",
    "    return possibility_array\n"
   ],
   "id": "c65d6b9b1018d0ff",
   "outputs": [],
   "execution_count": null
  },
  {
   "metadata": {},
   "cell_type": "markdown",
   "source": [
    "### 2.7 `compute_possibility_necessity_df`\n",
    "\n",
    "Computes a DataFrame containing possibility and necessity values for each ozone category."
   ],
   "id": "17ce1843b2dd5556"
  },
  {
   "metadata": {},
   "cell_type": "code",
   "source": [
    "def compute_possibility_necessity_df(ozone_simulation, ozone, normalize=False):\n",
    "    \"\"\"\n",
    "    Compute possibility and necessity DataFrame.\n",
    "\n",
    "    Args:\n",
    "        ozone_simulation: The ozone simulation object\n",
    "        ozone: The ozone variable\n",
    "        normalize: Boolean indicating whether to normalize the array\n",
    "\n",
    "    Returns:\n",
    "        poss_necess_df: DataFrame with possibility and necessity values\n",
    "    \"\"\"\n",
    "    possibility_array = create_possibility_array(ozone_simulation, ozone, normalize=normalize)\n",
    "    necessity_array = compute_necessity_distr(possibility_array, func=\"max\")\n",
    "    poss_necess_df = create_dataframe_poss_necess(ozone.terms.keys(), possibility_array, necessity_array)\n",
    "    return poss_necess_df\n",
    "\n",
    "def create_dataframe_poss_necess(category_names, possibility_array, necessity_array):\n",
    "    \"\"\"\n",
    "    Create a DataFrame of possibility and necessity values.\n",
    "\n",
    "    Args:\n",
    "        category_names: List of category names\n",
    "        possibility_array: Numpy array of possibility values\n",
    "        necessity_array: Numpy array of necessity values\n",
    "\n",
    "    Returns:\n",
    "        df: DataFrame with possibility and necessity values\n",
    "    \"\"\"\n",
    "    df = pd.DataFrame(index=category_names)\n",
    "    df['possibility'] = possibility_array\n",
    "    df['necessity'] = necessity_array\n",
    "    return df"
   ],
   "id": "ca047cf932c6c0c4",
   "outputs": [],
   "execution_count": null
  },
  {
   "metadata": {},
   "cell_type": "markdown",
   "source": [
    "### 2.8 `plot_ozone_fcst`\n",
    "\n",
    "Plots the ozone forecast along with possibility and necessity distributions."
   ],
   "id": "e51f1ebda4d976c1"
  },
  {
   "metadata": {},
   "cell_type": "code",
   "source": [
    "def plot_ozone_fcst(ozone, sim=None, df=None, category_curve_centre=None, plot_necessity=False):\n",
    "    \"\"\"\n",
    "    Plot the ozone forecast with the possibility and necessity of each category.\n",
    "\n",
    "    Args:\n",
    "        ozone: The ozone variable\n",
    "        sim: The ozone simulation object\n",
    "        df: DataFrame with possibility and necessity values\n",
    "        category_curve_centre: Dict with category names and their Gaussian curve centers\n",
    "        plot_necessity: Boolean indicating whether to plot necessity values\n",
    "    \"\"\"\n",
    "    ozone.view(sim=sim)\n",
    "\n",
    "    if df is not None:\n",
    "        for i, cat in enumerate(ozone.terms.keys()):\n",
    "            if plot_necessity:\n",
    "                label = \"Necessity\" if i == 0 else \"\"\n",
    "                plt.plot(category_curve_centre[cat], df.loc[cat, 'necessity'], marker='_', markersize=22,\n",
    "                         label=label, zorder=10,\n",
    "                         markeredgecolor='orchid', markeredgewidth=4)\n",
    "\n",
    "    # Drawing reference lines\n",
    "    plt.axvline(x=40, color='k', linestyle=':', linewidth=1.5)\n",
    "    plt.text(38, 0.85, 'Typical\\nBackground', horizontalalignment='right', fontsize=8)\n",
    "    plt.axvline(x=70, color='magenta', linestyle=':', linewidth=1.5)\n",
    "    plt.text(72, 0.85, 'NAAQS for Ozone', horizontalalignment='left', fontsize=8)\n",
    "\n",
    "    plt.xlabel('Ozone Concentration (ppb)')\n",
    "    plt.ylim(0, 1)\n",
    "    plt.legend()\n",
    "    plt.show()"
   ],
   "id": "ba70ba0cc698a660",
   "outputs": [],
   "execution_count": null
  },
  {
   "metadata": {},
   "cell_type": "markdown",
   "source": [
    "## 3. Defining Input Variables and Universes of Discourse\n",
    "\n",
    "---\n",
    "\n",
    "We define the universes of discourse for each input variable based on their expected ranges."
   ],
   "id": "ed06979244b42008"
  },
  {
   "metadata": {},
   "cell_type": "code",
   "source": [
    "# Snow depth in mm (0 to 750 mm)\n",
    "snow_uod = np.arange(0, 750, 5)\n",
    "\n",
    "# Mean sea-level pressure in Pa (100,000 Pa to 107,000 Pa)\n",
    "mslp_uod = np.arange(100000, 107000, 500)\n",
    "\n",
    "# Wind speed in m/s (0 to 20 m/s)\n",
    "wind_uod = np.arange(0, 20, 0.125)\n",
    "\n",
    "# Solar radiation in W/m^2 (100 to 1100 W/m^2)\n",
    "solar_uod = np.arange(100, 1100, 10)\n",
    "\n",
    "# Define the Antecedents (input variables)\n",
    "snow = ctrl.Antecedent(snow_uod, 'snow')\n",
    "mslp = ctrl.Antecedent(mslp_uod, 'mslp')\n",
    "wind = ctrl.Antecedent(wind_uod, 'wind')\n",
    "solar = ctrl.Antecedent(solar_uod, 'solar')\n",
    "\n",
    "# Define the Consequent (output variable)\n",
    "ozone = ctrl.Consequent(np.arange(20, 140, 1), 'ozone')"
   ],
   "id": "8021bcf51e804ed2",
   "outputs": [],
   "execution_count": null
  },
  {
   "metadata": {},
   "cell_type": "markdown",
   "source": [
    "## 4. Creating Membership Functions\n",
    "\n",
    "---\n",
    "\n",
    "Membership functions define how each point in the input space is mapped to a membership value between 0 and 1."
   ],
   "id": "f22ea20fa50d4f31"
  },
  {
   "metadata": {},
   "cell_type": "markdown",
   "source": "### 4.1 Snow Membership Functions",
   "id": "6f60b543443806b9"
  },
  {
   "metadata": {},
   "cell_type": "code",
   "source": [
    "# Define membership functions for snow\n",
    "snow['negligible'] = fuzz.sigmf(snow.universe, 70, -0.07)\n",
    "snow['sufficient'] = fuzz.sigmf(snow.universe, 100, 0.07)\n",
    "\n",
    "# Plotting the snow membership functions\n",
    "fig, ax = plt.subplots(figsize=(10, 6), dpi=300)\n",
    "snow.view(ax=ax)\n",
    "ax.set_xlabel(\"Snow depth (mm)\")\n",
    "plt.show()"
   ],
   "id": "bf3b9df7aa58bf2c",
   "outputs": [],
   "execution_count": null
  },
  {
   "metadata": {},
   "cell_type": "markdown",
   "source": "### 4.2 Pressure Membership Functions",
   "id": "1eb243a1dc462149"
  },
  {
   "metadata": {},
   "cell_type": "code",
   "source": [
    "# Define membership functions for mean sea-level pressure (mslp)\n",
    "mslp['low'] = fuzz.sigmf(mslp.universe, 101300, -0.005)\n",
    "mslp['average'] = fuzz.gaussmf(mslp.universe, 102900, 800)\n",
    "mslp['high'] = fuzz.sigmf(mslp.universe, 104500, 0.005)\n",
    "\n",
    "# Plotting the pressure membership functions\n",
    "fig, ax = plt.subplots(figsize=(10, 6), dpi=300)\n",
    "mslp.view(ax=ax)\n",
    "# Adjust x-axis to display in hPa\n",
    "ax.set_xticks(np.arange(100000, 107500, 1000))\n",
    "ax.set_xticklabels(np.arange(1000, 1075, 10))\n",
    "ax.set_xlabel(\"Mean Sea-Level Pressure (hPa)\")\n",
    "plt.show()"
   ],
   "id": "dee8315c1d4af6df",
   "outputs": [],
   "execution_count": null
  },
  {
   "metadata": {},
   "cell_type": "markdown",
   "source": "### 4.3 Wind Speed Membership Functions",
   "id": "33889b3765dcbf1"
  },
  {
   "metadata": {},
   "cell_type": "code",
   "source": [
    "# Define membership functions for wind speed\n",
    "wind['calm'] = fuzz.sigmf(wind.universe, 2.5, -3.0)\n",
    "wind['breezy'] = fuzz.sigmf(wind.universe, 2.5, 3.0)\n",
    "\n",
    "# Plotting the wind speed membership functions\n",
    "fig, ax = plt.subplots(figsize=(10, 6), dpi=300)\n",
    "wind.view(ax=ax)\n",
    "ax.set_xlabel(\"Wind Speed ($m\\,s^{-1}$)\")\n",
    "plt.show()"
   ],
   "id": "732201a58e1d1fbf",
   "outputs": [],
   "execution_count": null
  },
  {
   "metadata": {},
   "cell_type": "markdown",
   "source": "### 4.4 Solar Radiation Membership Functions",
   "id": "4e5c33b6fef6847f"
  },
  {
   "metadata": {},
   "cell_type": "code",
   "source": [
    "# Define membership functions for solar radiation\n",
    "solar['midwinter'] = fuzz.sigmf(solar.universe, 300, -0.03)\n",
    "solar['winter'] = fuzz.gaussmf(solar.universe, 450, 100)\n",
    "solar['spring'] = fuzz.gaussmf(solar.universe, 650, 100)\n",
    "solar['summer'] = fuzz.sigmf(solar.universe, 750, 0.03)\n",
    "\n",
    "# Plotting the solar radiation membership functions\n",
    "fig, ax = plt.subplots(figsize=(10, 6), dpi=300)\n",
    "solar.view(ax=ax)\n",
    "ax.set_xlabel(\"Solar Radiation ($W\\,m^{-2}$)\")\n",
    "plt.show()"
   ],
   "id": "74f1aa23a293afc3",
   "outputs": [],
   "execution_count": null
  },
  {
   "metadata": {},
   "cell_type": "markdown",
   "source": "### 4.5 Ozone Membership Functions",
   "id": "b982c75dad887bfd"
  },
  {
   "metadata": {},
   "cell_type": "code",
   "source": [
    "# Define Gaussian parameters for ozone categories\n",
    "curve_centres = {'background': 40, 'moderate': 52, 'elevated': 67, 'extreme': 95}\n",
    "sigma_vals = {'background': 6, 'moderate': 5.5, 'elevated': 6, 'extreme': 10}\n",
    "\n",
    "# Define membership functions for ozone\n",
    "ozone['background'] = fuzz.gaussmf(ozone.universe, curve_centres['background'], sigma_vals['background'])\n",
    "ozone['moderate'] = fuzz.gaussmf(ozone.universe, curve_centres['moderate'], sigma_vals['moderate'])\n",
    "ozone['elevated'] = fuzz.gaussmf(ozone.universe, curve_centres['elevated'], sigma_vals['elevated'])\n",
    "ozone['extreme'] = fuzz.gaussmf(ozone.universe, curve_centres['extreme'], sigma_vals['extreme'])\n",
    "\n",
    "# Plotting the ozone membership functions\n",
    "plot_ozone_fcst(ozone)"
   ],
   "id": "bfbf95593138ab94",
   "outputs": [],
   "execution_count": null
  },
  {
   "metadata": {},
   "cell_type": "markdown",
   "source": [
    "## 5. Defining Fuzzy Rules\n",
    "\n",
    "---\n",
    "\n",
    "The fuzzy rules define how the input variables are combined to produce the output."
   ],
   "id": "bff7c46da48f25f3"
  },
  {
   "metadata": {},
   "cell_type": "code",
   "source": [
    "# Rule 1: If snow is negligible or pressure is low or wind is breezy, then ozone is background\n",
    "rule1 = ctrl.Rule((snow['negligible'] | mslp['low'] | wind['breezy']), ozone['background'])\n",
    "\n",
    "# Rule 2: If snow is sufficient and pressure is high and wind is calm and solar is spring, then ozone is extreme\n",
    "rule2 = ctrl.Rule(snow['sufficient'] & mslp['high'] & wind['calm'] & solar['spring'], ozone['extreme'])\n",
    "\n",
    "# Rule 3: If snow is sufficient and pressure is high and wind is calm and solar is winter, then ozone is elevated\n",
    "rule3 = ctrl.Rule(snow['sufficient'] & mslp['high'] & wind['calm'] & solar['winter'], ozone['elevated'])\n",
    "\n",
    "# Rule 4: If snow is sufficient and pressure is high and wind is calm and solar is midwinter or summer, then ozone is moderate\n",
    "rule4 = ctrl.Rule(snow['sufficient'] & mslp['high'] & wind['calm'] & (solar['midwinter'] | solar['summer']), ozone['moderate'])\n",
    "\n",
    "# Rule 5: If snow is sufficient and pressure is average and wind is calm and solar is spring or winter, then ozone is elevated\n",
    "rule5 = ctrl.Rule(snow['sufficient'] & mslp['average'] & wind['calm'] & (solar['spring'] | solar['winter']), ozone['elevated'])\n",
    "\n",
    "# Rule 6: If snow is sufficient and pressure is average and wind is calm and solar is midwinter or summer, then ozone is moderate\n",
    "rule6 = ctrl.Rule(snow['sufficient'] & mslp['average'] & wind['calm'] & (solar['midwinter'] | solar['summer']), ozone['moderate'])"
   ],
   "id": "4c8c6ebef0608444",
   "outputs": [],
   "execution_count": null
  },
  {
   "metadata": {},
   "cell_type": "markdown",
   "source": [
    "## 6. Creating the Control System\n",
    "\n",
    "---\n",
    "\n",
    "We now create the control system and simulation using the defined rules."
   ],
   "id": "a1c6e1668879c65f"
  },
  {
   "metadata": {},
   "cell_type": "code",
   "source": [
    "# Create the control system with the defined rules\n",
    "ozone_ctrl = ctrl.ControlSystem([rule1, rule2, rule3, rule4, rule5, rule6])\n",
    "\n",
    "# Create a simulation object\n",
    "ozone_simulation = ctrl.ControlSystemSimulation(ozone_ctrl)"
   ],
   "id": "f17573ac59f462ba",
   "outputs": [],
   "execution_count": null
  },
  {
   "metadata": {},
   "cell_type": "markdown",
   "source": [
    "## 7. Running Example Cases\n",
    "\n",
    "---\n",
    "\n",
    "We will test the model with some example cases by setting the input variables and computing the output."
   ],
   "id": "6834013a64e7a8b"
  },
  {
   "metadata": {},
   "cell_type": "markdown",
   "source": [
    "### 7.1 High Ozone Case\n",
    "\n",
    "**Explanation:** In this scenario, all conditions favor high ozone levels—sufficient snow, high pressure, calm wind, and high solar radiation."
   ],
   "id": "f32d062fa3be0ce3"
  },
  {
   "metadata": {},
   "cell_type": "code",
   "source": [
    "# Example 1: High ozone case\n",
    "ozone_simulation.input['snow'] = 250        # Snow depth in mm\n",
    "ozone_simulation.input['mslp'] = 104500     # Pressure in Pa\n",
    "ozone_simulation.input['wind'] = 1          # Wind speed in m/s\n",
    "ozone_simulation.input['solar'] = 640       # Solar radiation in W/m^2\n",
    "\n",
    "# Compute the simulation\n",
    "ozone_simulation.compute()\n",
    "\n",
    "# Output the predicted ozone level\n",
    "print(\"Predicted Ozone Level:\", ozone_simulation.output['ozone'])\n",
    "\n",
    "# Compute possibility and necessity\n",
    "poss_necess_df = compute_possibility_necessity_df(ozone_simulation, ozone)\n",
    "\n",
    "# Plot the ozone forecast\n",
    "plot_ozone_fcst(ozone, sim=ozone_simulation, df=poss_necess_df, category_curve_centre=curve_centres)"
   ],
   "id": "38bd38078b036a3a",
   "outputs": [],
   "execution_count": null
  },
  {
   "metadata": {},
   "cell_type": "markdown",
   "source": [
    "### 7.2 Background Ozone Case\n",
    "\n",
    "**Explanation:** In this case, the wind is breezy and the snow depth is low, leading to background ozone levels."
   ],
   "id": "b9f47439533a8dca"
  },
  {
   "metadata": {},
   "cell_type": "code",
   "source": [
    "# Example 2: Background ozone case\n",
    "ozone_simulation.input['snow'] = 50         # Snow depth in mm\n",
    "ozone_simulation.input['mslp'] = 102500     # Pressure in Pa\n",
    "ozone_simulation.input['wind'] = 4          # Wind speed in m/s\n",
    "ozone_simulation.input['solar'] = 600       # Solar radiation in W/m^2\n",
    "\n",
    "# Compute the simulation\n",
    "ozone_simulation.compute()\n",
    "\n",
    "# Output the predicted ozone level\n",
    "print(\"Predicted Ozone Level:\", ozone_simulation.output['ozone'])\n",
    "\n",
    "# Compute possibility and necessity\n",
    "poss_necess_df = compute_possibility_necessity_df(ozone_simulation, ozone)\n",
    "\n",
    "# Plot the ozone forecast\n",
    "plot_ozone_fcst(ozone, sim=ozone_simulation, df=poss_necess_df, category_curve_centre=curve_centres)"
   ],
   "id": "952b084f208f4c1c",
   "outputs": [],
   "execution_count": null
  },
  {
   "metadata": {},
   "cell_type": "markdown",
   "source": [
    "### 7.3 Cusp Case\n",
    "\n",
    "**Explanation:** This is a borderline case where conditions could lead to moderate or elevated ozone levels."
   ],
   "id": "41daafaa303ea5e2"
  },
  {
   "metadata": {},
   "cell_type": "code",
   "source": [
    "# Example 3: Cusp case\n",
    "ozone_simulation.input['snow'] = 100        # Snow depth in mm\n",
    "ozone_simulation.input['mslp'] = 104000     # Pressure in Pa\n",
    "ozone_simulation.input['wind'] = 1.5        # Wind speed in m/s\n",
    "ozone_simulation.input['solar'] = 500       # Solar radiation in W/m^2\n",
    "\n",
    "# Compute the simulation\n",
    "ozone_simulation.compute()\n",
    "\n",
    "# Output the predicted ozone level\n",
    "print(\"Predicted Ozone Level:\", ozone_simulation.output['ozone'])\n",
    "\n",
    "# Compute possibility and necessity\n",
    "poss_necess_df = compute_possibility_necessity_df(ozone_simulation, ozone)\n",
    "\n",
    "# Display the possibility and necessity DataFrame\n",
    "print(poss_necess_df)\n",
    "\n",
    "# Plot the ozone forecast\n",
    "plot_ozone_fcst(ozone, sim=ozone_simulation, df=poss_necess_df, category_curve_centre=curve_centres)"
   ],
   "id": "a1927571ff745f61",
   "outputs": [],
   "execution_count": null
  },
  {
   "metadata": {},
   "cell_type": "markdown",
   "source": [
    "## 8. Evaluating the Model with Data\n",
    "\n",
    "---\n",
    "\n",
    "We will now use real data to evaluate the model."
   ],
   "id": "3b0f7265a83d0b4"
  },
  {
   "metadata": {},
   "cell_type": "markdown",
   "source": [
    "### 8.1 Loading Data\n",
    "\n",
    "**Note:** The data should contain columns like `snow_depth`, `sea_level_pressure`, `wind_speed`, `solar_radiation`, and `ozone_concentration`."
   ],
   "id": "f1acfed7f84cc9c3"
  },
  {
   "metadata": {},
   "cell_type": "code",
   "source": [
    "# Load the data (assuming 'df_rep.pkl' is available in the specified path)\n",
    "df_rep = pd.read_pickle(f\"../local_data/df_rep_{y}.pkl\")\n",
    "df_rep.head()"
   ],
   "id": "cbb41797f57d4f48",
   "outputs": [],
   "execution_count": null
  },
  {
   "metadata": {},
   "cell_type": "markdown",
   "source": "### 8.2 Running the Model on Data",
   "id": "3c8072685378aa61"
  },
  {
   "metadata": {},
   "cell_type": "code",
   "source": [
    "# Initialize columns for forecast and possibility values\n",
    "ozone_categories = ['background', 'moderate', 'elevated', 'extreme']\n",
    "columns_to_initialize = ['ozone_forecast'] + [f'possibility_{cat}' for cat in ozone_categories]\n",
    "\n",
    "# Add new columns to the DataFrame\n",
    "for col in columns_to_initialize:\n",
    "    df_rep[col] = np.nan\n",
    "\n",
    "# Loop through each row and compute the forecast\n",
    "for i, row in df_rep.iterrows():\n",
    "    # Set the input values\n",
    "    ozone_simulation.input['snow'] = row['snow_depth']\n",
    "    ozone_simulation.input['mslp'] = row['sea_level_pressure']\n",
    "    ozone_simulation.input['wind'] = row['wind_speed']\n",
    "    ozone_simulation.input['solar'] = row['solar_radiation']\n",
    "\n",
    "    # Compute the simulation\n",
    "    ozone_simulation.compute()\n",
    "\n",
    "    # Store the forecasted ozone level\n",
    "    df_rep.at[i, 'ozone_forecast'] = ozone_simulation.output['ozone']\n",
    "\n",
    "    # Store the possibility values for each category\n",
    "    for k, v in ozone.terms.items():\n",
    "        df_rep.at[i, f'possibility_{k}'] = v.membership_value[ozone_simulation]"
   ],
   "id": "cda64e5c38709938",
   "outputs": [],
   "execution_count": null
  },
  {
   "metadata": {},
   "cell_type": "markdown",
   "source": [
    "## 9. Visualizing Results\n",
    "\n",
    "---\n",
    "\n",
    "This section will cover the visualization of the model's results."
   ],
   "id": "db2e1f16ce70f41d"
  },
  {
   "metadata": {},
   "cell_type": "markdown",
   "source": "### 9.1 Time Series Plot of Observed and Forecasted Ozone Levels",
   "id": "7e71e5f3efaaf3dc"
  },
  {
   "metadata": {},
   "cell_type": "code",
   "source": [
    "# Create the figure and the first axis\n",
    "fig, ax1 = plt.subplots(figsize=(12, 6), dpi=300)\n",
    "\n",
    "# Plot the forecast and observed ozone concentration\n",
    "ax1.plot(df_rep.index, df_rep['ozone_forecast'], label='Forecast', color='blue')\n",
    "ax1.plot(df_rep.index, df_rep['ozone_concentration'], label='Observed', color='black')\n",
    "\n",
    "# Add horizontal lines for NAAQS limit and typical background\n",
    "ax1.axhline(y=70, color='magenta', linestyle=':', linewidth=1.5, label='NAAQS for Ozone')\n",
    "ax1.axhline(y=40, color='k', linestyle=':', linewidth=1.5, label='Typical Background')\n",
    "\n",
    "# Set labels and limits\n",
    "ax1.set_ylabel('Ozone Concentration (ppb)', fontsize=12)\n",
    "ax1.set_xlabel('Date', fontsize=12)\n",
    "ax1.set_ylim(20, 100)\n",
    "\n",
    "# Format the x-axis for dates\n",
    "ax1.xaxis.set_major_locator(mdates.MonthLocator())\n",
    "ax1.xaxis.set_major_formatter(mdates.DateFormatter('%b %Y'))\n",
    "plt.setp(ax1.get_xticklabels(), rotation=45, ha='right', fontsize=10)\n",
    "\n",
    "# Create a second y-axis for the possibility bars\n",
    "ax2 = ax1.twinx()\n",
    "\n",
    "# Plot the possibility bars\n",
    "ax2.bar(df_rep.index, df_rep['possibility_extreme'], color='red', alpha=0.6, label='Possibility of Extreme Ozone')\n",
    "ax2.bar(df_rep.index, df_rep['possibility_elevated'], color='green', alpha=0.4, label='Possibility of Elevated Ozone')\n",
    "ax2.bar(df_rep.index, df_rep['possibility_moderate'], color='orange', alpha=0.3, label='Possibility of Moderate Ozone')\n",
    "ax2.bar(df_rep.index, df_rep['possibility_background'], color='blue', alpha=0.2, label='Possibility of Background Ozone')\n",
    "\n",
    "# Set the second y-axis label and limits\n",
    "ax2.set_ylabel('Possibility', fontsize=12)\n",
    "ax2.set_ylim(0, 1)\n",
    "\n",
    "# Combine legends from both axes\n",
    "lines1, labels1 = ax1.get_legend_handles_labels()\n",
    "lines2, labels2 = ax2.get_legend_handles_labels()\n",
    "ax1.legend(lines1 + lines2, labels1 + labels2, loc='upper left', fontsize=10)\n",
    "\n",
    "plt.title('Observed and Forecasted Ozone Levels with Possibility Distributions')\n",
    "plt.tight_layout()\n",
    "plt.show()"
   ],
   "id": "bdceafd6720035c2",
   "outputs": [],
   "execution_count": null
  },
  {
   "metadata": {},
   "cell_type": "markdown",
   "source": [
    "### 9.2 Detailed Analysis for Specific Dates\n",
    "\n",
    "Let's analyze the possibility and necessity distributions for specific dates."
   ],
   "id": "335de470e3a0fbcc"
  },
  {
   "metadata": {},
   "cell_type": "code",
   "source": [
    "# Define the date to analyze\n",
    "month = 'Feb'\n",
    "day = 27\n",
    "year = maybe_amend_year(month, y)\n",
    "\n",
    "# Generate the range dictionary and strings\n",
    "range_dict = range_from_gaussian_params(curve_centres, sigma_vals)\n",
    "range_str_dict = generate_str_from_range(range_dict)\n",
    "\n",
    "# Extract the percentiles for the date\n",
    "percentiles = df_rep.rank(pct=True)\n",
    "pc_dict = {k: percentiles.loc[f'{year}-{month}-{day}'][k] for k in percentiles.columns if 'possibility_' in k}\n",
    "\n",
    "# Plot the possibility and necessity distributions\n",
    "plot_possibility_necessity(df_rep, ozone, month=month, day=day, range_dict=range_dict,\n",
    "                           range_str_dict=range_str_dict, percentiles=pc_dict)"
   ],
   "id": "8420dda82803d2c0",
   "outputs": [],
   "execution_count": null
  },
  {
   "metadata": {},
   "cell_type": "markdown",
   "source": "",
   "id": "828088472959ac95"
  },
  {
   "metadata": {},
   "cell_type": "markdown",
   "source": [
    "## 10. Custom Cases Using Fake Data\n",
    "\n",
    "---\n",
    "\n",
    "Below, we'll create several custom cases with different input conditions that weren't covered in the original examples. We'll add these at the end of your notebook to showcase how the model responds to various scenarios."
   ],
   "id": "c472967eef7ecad4"
  },
  {
   "metadata": {},
   "cell_type": "markdown",
   "source": [
    "### Custom Case 1: Moderate Ozone with High Winds\n",
    "\n",
    "**Conditions:**\n",
    "- Snow depth: 200 mm (sufficient snow)\n",
    "- Mean sea-level pressure: 103500 Pa (average pressure)\n",
    "- Wind speed: 6 m/s (breezy wind)\n",
    "- Solar radiation: 550 W/m² (winter solar radiation)"
   ],
   "id": "a18f75aafd188de3"
  },
  {
   "metadata": {
    "ExecuteTime": {
     "end_time": "2024-09-16T22:53:42.386578Z",
     "start_time": "2024-09-16T22:53:42.373580Z"
    }
   },
   "cell_type": "code",
   "source": [
    "# Custom Case 1: Moderate Ozone with High Winds\n",
    "ozone_simulation.input['snow'] = 200        # Snow depth in mm (sufficient)\n",
    "ozone_simulation.input['mslp'] = 103500     # Pressure in Pa (average)\n",
    "ozone_simulation.input['wind'] = 6          # Wind speed in m/s (breezy)\n",
    "ozone_simulation.input['solar'] = 550       # Solar radiation in W/m² (winter)\n",
    "\n",
    "# Compute the simulation\n",
    "ozone_simulation.compute()\n",
    "\n",
    "# Output the predicted ozone level\n",
    "print(\"Predicted Ozone Level (Custom Case 1):\", ozone_simulation.output['ozone'])\n",
    "\n",
    "# Plot the ozone forecast with possibility and necessity\n",
    "poss_necess_df = compute_possibility_necessity_df(ozone_simulation, ozone)\n",
    "plot_ozone_fcst(\n",
    "    ozone, sim=ozone_simulation, df=poss_necess_df, category_curve_centre=curve_centres\n",
    ")"
   ],
   "id": "aadfd63ae53c5944",
   "outputs": [
    {
     "ename": "NameError",
     "evalue": "name 'ozone_simulation' is not defined",
     "output_type": "error",
     "traceback": [
      "\u001B[0;31m---------------------------------------------------------------------------\u001B[0m",
      "\u001B[0;31mNameError\u001B[0m                                 Traceback (most recent call last)",
      "Cell \u001B[0;32mIn[2], line 2\u001B[0m\n\u001B[1;32m      1\u001B[0m \u001B[38;5;66;03m# Custom Case 1: Moderate Ozone with High Winds\u001B[39;00m\n\u001B[0;32m----> 2\u001B[0m \u001B[43mozone_simulation\u001B[49m\u001B[38;5;241m.\u001B[39minput[\u001B[38;5;124m'\u001B[39m\u001B[38;5;124msnow\u001B[39m\u001B[38;5;124m'\u001B[39m] \u001B[38;5;241m=\u001B[39m \u001B[38;5;241m200\u001B[39m        \u001B[38;5;66;03m# Snow depth in mm (sufficient)\u001B[39;00m\n\u001B[1;32m      3\u001B[0m ozone_simulation\u001B[38;5;241m.\u001B[39minput[\u001B[38;5;124m'\u001B[39m\u001B[38;5;124mmslp\u001B[39m\u001B[38;5;124m'\u001B[39m] \u001B[38;5;241m=\u001B[39m \u001B[38;5;241m103500\u001B[39m     \u001B[38;5;66;03m# Pressure in Pa (average)\u001B[39;00m\n\u001B[1;32m      4\u001B[0m ozone_simulation\u001B[38;5;241m.\u001B[39minput[\u001B[38;5;124m'\u001B[39m\u001B[38;5;124mwind\u001B[39m\u001B[38;5;124m'\u001B[39m] \u001B[38;5;241m=\u001B[39m \u001B[38;5;241m6\u001B[39m          \u001B[38;5;66;03m# Wind speed in m/s (breezy)\u001B[39;00m\n",
      "\u001B[0;31mNameError\u001B[0m: name 'ozone_simulation' is not defined"
     ]
    }
   ],
   "execution_count": 2
  },
  {
   "metadata": {},
   "cell_type": "markdown",
   "source": [
    "**Explanation:**\n",
    "\n",
    "- Snow depth is sufficient, which can contribute to higher ozone levels.\n",
    "- Mean sea-level pressure is average, not strongly favoring high ozone.\n",
    "- Wind speed is breezy, which tends to disperse pollutants and reduce ozone accumulation.\n",
    "- Solar radiation is moderate for winter.\n",
    "\n",
    "We might expect the ozone level to be in the moderate category due to the opposing effects of sufficient snow and breezy winds."
   ],
   "id": "1b7d60b1cc78546e"
  },
  {
   "metadata": {},
   "cell_type": "markdown",
   "source": [
    "### Custom Case 2: Low Ozone in Midwinter with Calm Winds\n",
    "\n",
    "**Conditions:**\n",
    "- Snow depth: 0 mm (negligible snow)\n",
    "- Mean sea-level pressure: 102000 Pa (low pressure)\n",
    "- Wind speed: 2 m/s (calm wind)\n",
    "- Solar radiation: 250 W/m² (midwinter solar radiation)"
   ],
   "id": "8566779953b300e4"
  },
  {
   "metadata": {},
   "cell_type": "code",
   "source": [
    "# Custom Case 2: Low Ozone in Midwinter with Calm Winds\n",
    "ozone_simulation.input['snow'] = 0          # Snow depth in mm (negligible)\n",
    "ozone_simulation.input['mslp'] = 102000     # Pressure in Pa (low)\n",
    "ozone_simulation.input['wind'] = 2          # Wind speed in m/s (calm)\n",
    "ozone_simulation.input['solar'] = 250       # Solar radiation in W/m² (midwinter)\n",
    "\n",
    "# Compute the simulation\n",
    "ozone_simulation.compute()\n",
    "\n",
    "# Output the predicted ozone level\n",
    "print(\"Predicted Ozone Level (Custom Case 2):\", ozone_simulation.output['ozone'])\n",
    "\n",
    "# Plot the ozone forecast with possibility and necessity\n",
    "poss_necess_df = compute_possibility_necessity_df(ozone_simulation, ozone)\n",
    "plot_ozone_fcst(\n",
    "    ozone, sim=ozone_simulation, df=poss_necess_df, category_curve_centre=curve_centres\n",
    ")"
   ],
   "id": "5aba79df3c77e113",
   "outputs": [],
   "execution_count": null
  },
  {
   "metadata": {},
   "cell_type": "markdown",
   "source": [
    "**Explanation:**\n",
    "\n",
    "- Snow depth is negligible, reducing the potential for high ozone levels.\n",
    "- Mean sea-level pressure is low, associated with more dynamic atmospheric conditions.\n",
    "- Wind speed is calm, which could allow accumulation, but the lack of snow diminishes this effect.\n",
    "- Solar radiation is low due to midwinter conditions.\n",
    "\n",
    "We expect the ozone level to be in the background category.\n"
   ],
   "id": "2e39fe27fe30b032"
  },
  {
   "metadata": {},
   "cell_type": "markdown",
   "source": [
    "### Custom Case 3: Elevated Ozone with Mixed Conditions\n",
    "\n",
    "**Conditions:**\n",
    "- Snow depth: 150 mm (sufficient snow)\n",
    "- Mean sea-level pressure: 105000 Pa (high pressure)\n",
    "- Wind speed: 3 m/s (calm wind)\n",
    "- Solar radiation: 600 W/m² (approaching spring)"
   ],
   "id": "edd63997a14c6328"
  },
  {
   "metadata": {},
   "cell_type": "code",
   "source": [
    "# Custom Case 3: Elevated Ozone with Mixed Conditions\n",
    "ozone_simulation.input['snow'] = 150        # Snow depth in mm (sufficient)\n",
    "ozone_simulation.input['mslp'] = 105000     # Pressure in Pa (high)\n",
    "ozone_simulation.input['wind'] = 3          # Wind speed in m/s (calm)\n",
    "ozone_simulation.input['solar'] = 600       # Solar radiation in W/m² (approaching spring)\n",
    "\n",
    "# Compute the simulation\n",
    "ozone_simulation.compute()\n",
    "\n",
    "# Output the predicted ozone level\n",
    "print(\"Predicted Ozone Level (Custom Case 3):\", ozone_simulation.output['ozone'])\n",
    "\n",
    "# Plot the ozone forecast with possibility and necessity\n",
    "poss_necess_df = compute_possibility_necessity_df(ozone_simulation, ozone)\n",
    "plot_ozone_fcst(\n",
    "    ozone, sim=ozone_simulation, df=poss_necess_df, category_curve_centre=curve_centres\n",
    ")"
   ],
   "id": "d06fd4ea517fc56",
   "outputs": [],
   "execution_count": null
  },
  {
   "metadata": {},
   "cell_type": "markdown",
   "source": [
    "**Explanation:**\n",
    "\n",
    "- Snow depth is sufficient.\n",
    "- Mean sea-level pressure is very high, favoring ozone formation.\n",
    "- Wind speed is calm.\n",
    "- Solar radiation is increasing as we approach spring, enhancing photochemical reactions.\n",
    "\n",
    "We might expect the ozone level to be in the elevated or possibly extreme category, depending on the model's interpretation."
   ],
   "id": "171436585609e3c3"
  },
  {
   "metadata": {},
   "cell_type": "markdown",
   "source": [
    "### Custom Case 4: Background Ozone with High Solar Radiation\n",
    "\n",
    "**Conditions:**\n",
    "- Snow depth: 50 mm (negligible snow)\n",
    "- Mean sea-level pressure: 103000 Pa (average pressure)\n",
    "- Wind speed: 4 m/s (breezy wind)\n",
    "- Solar radiation: 800 W/m² (summer-like solar radiation)\n"
   ],
   "id": "b418b1f17768519b"
  },
  {
   "metadata": {},
   "cell_type": "code",
   "source": [
    "# Custom Case 4: Background Ozone with High Solar Radiation\n",
    "ozone_simulation.input['snow'] = 50         # Snow depth in mm (negligible)\n",
    "ozone_simulation.input['mslp'] = 103000     # Pressure in Pa (average)\n",
    "ozone_simulation.input['wind'] = 4          # Wind speed in m/s (breezy)\n",
    "ozone_simulation.input['solar'] = 800       # Solar radiation in W/m² (summer-like)\n",
    "\n",
    "# Compute the simulation\n",
    "ozone_simulation.compute()\n",
    "\n",
    "# Output the predicted ozone level\n",
    "print(\"Predicted Ozone Level (Custom Case 4):\", ozone_simulation.output['ozone'])\n",
    "\n",
    "# Plot the ozone forecast with possibility and necessity\n",
    "poss_necess_df = compute_possibility_necessity_df(ozone_simulation, ozone)\n",
    "plot_ozone_fcst(\n",
    "    ozone, sim=ozone_simulation, df=poss_necess_df, category_curve_centre=curve_centres\n",
    ")"
   ],
   "id": "b43d473f5f4897a8",
   "outputs": [],
   "execution_count": null
  },
  {
   "metadata": {},
   "cell_type": "markdown",
   "source": [
    "**Explanation:**\n",
    "\n",
    "- Snow depth is negligible.\n",
    "- Mean sea-level pressure is average.\n",
    "- Wind speed is breezy.\n",
    "- Solar radiation is high, typical of summer.\n",
    "\n",
    "Despite the high solar radiation, the lack of snow and breezy winds suggest that ozone levels should remain in the background category according to the model rules."
   ],
   "id": "569bca22cd5b92c3"
  },
  {
   "metadata": {},
   "cell_type": "markdown",
   "source": [
    "### Custom Case 5: Extreme Ozone with Midwinter Solar Radiation\n",
    "\n",
    "**Conditions:**\n",
    "- Snow depth: 500 mm (very sufficient snow)\n",
    "- Mean sea-level pressure: 104800 Pa (high pressure)\n",
    "- Wind speed: 0.8 m/s (very calm wind)\n",
    "- Solar radiation: 350 W/m² (midwinter solar radiation)"
   ],
   "id": "ab43c274b599b860"
  },
  {
   "metadata": {},
   "cell_type": "code",
   "source": [
    "# Custom Case 5: Extreme Ozone with Midwinter Solar Radiation\n",
    "ozone_simulation.input['snow'] = 500        # Snow depth in mm (very sufficient)\n",
    "ozone_simulation.input['mslp'] = 104800     # Pressure in Pa (high)\n",
    "ozone_simulation.input['wind'] = 0.8        # Wind speed in m/s (very calm)\n",
    "ozone_simulation.input['solar'] = 350       # Solar radiation in W/m² (midwinter)\n",
    "\n",
    "# Compute the simulation\n",
    "ozone_simulation.compute()\n",
    "\n",
    "# Output the predicted ozone level\n",
    "print(\"Predicted Ozone Level (Custom Case 5):\", ozone_simulation.output['ozone'])\n",
    "\n",
    "# Plot the ozone forecast with possibility and necessity\n",
    "poss_necess_df = compute_possibility_necessity_df(ozone_simulation, ozone)\n",
    "plot_ozone_fcst(\n",
    "    ozone, sim=ozone_simulation, df=poss_necess_df, category_curve_centre=curve_centres\n",
    ")"
   ],
   "id": "248a9a7c2bfc64ad",
   "outputs": [],
   "execution_count": null
  },
  {
   "metadata": {},
   "cell_type": "markdown",
   "source": [
    "**Explanation:**\n",
    "\n",
    "- Snow depth is very high, significantly contributing to ozone formation.\n",
    "- Mean sea-level pressure is high, indicating stable conditions.\n",
    "- Wind speed is very calm, allowing pollutants to accumulate.\n",
    "- Solar radiation is low due to midwinter conditions.\n",
    "\n",
    "Despite low solar radiation, the other conditions are strongly favorable for ozone formation. According to the model's rules, this could result in an elevated or even extreme ozone level."
   ],
   "id": "785c0b820ffd1b4c"
  },
  {
   "metadata": {},
   "cell_type": "markdown",
   "source": "",
   "id": "9236a8426a3a3f04"
  }
 ],
 "metadata": {
  "kernelspec": {
   "display_name": "Python 3",
   "language": "python",
   "name": "python3"
  },
  "language_info": {
   "codemirror_mode": {
    "name": "ipython",
    "version": 2
   },
   "file_extension": ".py",
   "mimetype": "text/x-python",
   "name": "python",
   "nbconvert_exporter": "python",
   "pygments_lexer": "ipython2",
   "version": "2.7.6"
  }
 },
 "nbformat": 4,
 "nbformat_minor": 5
}
